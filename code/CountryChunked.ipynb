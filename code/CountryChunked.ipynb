{
  "cells": [
    {
      "cell_type": "code",
      "source": [
        "import os\n",
        "import numpy as np\n",
        "import pandas as pd\n",
        "import rasterio\n",
        "import geopandas as gpd\n",
        "from shapely.geometry import Polygon, shape\n",
        "from shapely.ops import transform\n",
        "import pystac\n",
        "import pystac_client\n",
        "import planetary_computer\n",
        "import xarray\n",
        "from functools import partial\n",
        "from rasterio.plot import show\n",
        "from rioxarray.merge import merge_arrays\n",
        "from multiprocessing import Pool"
      ],
      "outputs": [],
      "execution_count": 1,
      "metadata": {
        "jupyter": {
          "source_hidden": false,
          "outputs_hidden": false
        },
        "nteract": {
          "transient": {
            "deleting": false
          }
        },
        "gather": {
          "logged": 1696349000796
        }
      }
    },
    {
      "cell_type": "code",
      "source": [
        "# Define a function to process a chunk of data\n",
        "def process_chunk(chunk, heat_data, outFileName):\n",
        "    # Your existing code goes here\n",
        "    # Replace this comment with your actual code to process the chunk\n",
        "    # ...\n",
        "\n",
        "    # Example: Calculate the sum of 'pop_data' for the chunk\n",
        "    chunk_sum = chunk['pop_data'].sum()\n",
        "\n",
        "    # Save the results to a CSV file\n",
        "    chunk_result = pd.DataFrame({'Chunk_Sum': [chunk_sum]})\n",
        "    chunk_result.to_csv(outFileName, index=False)\n",
        "    print(f\"Processed chunk and saved results to {outFileName}\")"
      ],
      "outputs": [],
      "execution_count": null,
      "metadata": {
        "jupyter": {
          "source_hidden": false,
          "outputs_hidden": false
        },
        "nteract": {
          "transient": {
            "deleting": false
          }
        }
      }
    },
    {
      "cell_type": "code",
      "source": [
        "# Define the directory and other variables\n",
        "directory = os.getcwd() + '/data'\n",
        "heat_data = rasterio.open('global_mean_wbgt_30.tif', masked=True)\n",
        "\n",
        "countryCode = 'usa'\n",
        "fileName = '_ppp_2020_1km_Aggregated_UNadj.tif'\n",
        "filePath = directory + '/' + countryCode + fileName\n",
        "\n",
        "country_pop = rioxarray.open_rasterio(filePath, masked=True)\n",
        "\n",
        "outFileName = directory + '/' + countryCode + '_heat_flood_extract.csv'\n",
        "\n",
        "country_box = country_pop.rio.bounds()\n",
        "\n",
        "# Define filePath, country_pop, country_box, and other variables as needed"
      ],
      "outputs": [],
      "execution_count": null,
      "metadata": {
        "jupyter": {
          "source_hidden": false,
          "outputs_hidden": false
        },
        "nteract": {
          "transient": {
            "deleting": false
          }
        }
      }
    },
    {
      "cell_type": "code",
      "source": [
        "# Split your data into chunks\n",
        "chunk_size = 10000  # Adjust this value based on available memory\n",
        "chunks = [country_pop_gdf[i:i + chunk_size] for i in range(0, len(country_pop_gdf), chunk_size)]\n"
      ],
      "outputs": [],
      "execution_count": null,
      "metadata": {
        "jupyter": {
          "source_hidden": false,
          "outputs_hidden": false
        },
        "nteract": {
          "transient": {
            "deleting": false
          }
        }
      }
    },
    {
      "cell_type": "code",
      "source": [
        "# Create a Pool of worker processes\n",
        "num_processes = 4  # Adjust the number of processes as needed\n",
        "pool = Pool(num_processes)\n"
      ],
      "outputs": [],
      "execution_count": null,
      "metadata": {
        "jupyter": {
          "source_hidden": false,
          "outputs_hidden": false
        },
        "nteract": {
          "transient": {
            "deleting": false
          }
        }
      }
    },
    {
      "cell_type": "code",
      "source": [
        "# Process each chunk in parallel\n",
        "results = []\n",
        "for i, chunk in enumerate(chunks):\n",
        "    out_chunk_file = f\"{countryCode}_chunk_{i}.csv\"\n",
        "    result = pool.apply_async(process_chunk, args=(chunk, heat_data, out_chunk_file))\n",
        "    results.append(result)"
      ],
      "outputs": [],
      "execution_count": null,
      "metadata": {
        "jupyter": {
          "source_hidden": false,
          "outputs_hidden": false
        },
        "nteract": {
          "transient": {
            "deleting": false
          }
        }
      }
    },
    {
      "cell_type": "code",
      "source": [
        "# Wait for all processes to finish\n",
        "pool.close()\n",
        "pool.join()\n"
      ],
      "outputs": [],
      "execution_count": null,
      "metadata": {
        "jupyter": {
          "source_hidden": false,
          "outputs_hidden": false
        },
        "nteract": {
          "transient": {
            "deleting": false
          }
        }
      }
    },
    {
      "cell_type": "code",
      "source": [
        "# Combine the results into a single dataframe if needed\n",
        "combined_df = pd.concat([pd.read_csv(f\"{countryCode}_chunk_{i}.csv\") for i in range(len(chunks))])\n",
        "\n",
        "# Save the combined dataframe to the final output file\n",
        "outFileName = directory + '/' + countryCode + '_heat_flood_extract.csv'\n",
        "combined_df.to_csv(outFileName, index=False)\n",
        "\n",
        "print(f\"Final results saved to {outFileName}\")"
      ],
      "outputs": [],
      "execution_count": null,
      "metadata": {
        "jupyter": {
          "source_hidden": false,
          "outputs_hidden": false
        },
        "nteract": {
          "transient": {
            "deleting": false
          }
        }
      }
    }
  ],
  "metadata": {
    "kernelspec": {
      "name": "python310-sdkv2",
      "language": "python",
      "display_name": "Python 3.10 - SDK v2"
    },
    "language_info": {
      "name": "python",
      "version": "3.10.11",
      "mimetype": "text/x-python",
      "codemirror_mode": {
        "name": "ipython",
        "version": 3
      },
      "pygments_lexer": "ipython3",
      "nbconvert_exporter": "python",
      "file_extension": ".py"
    },
    "microsoft": {
      "ms_spell_check": {
        "ms_spell_check_language": "en"
      }
    },
    "kernel_info": {
      "name": "python310-sdkv2"
    },
    "nteract": {
      "version": "nteract-front-end@1.0.0"
    }
  },
  "nbformat": 4,
  "nbformat_minor": 2
}